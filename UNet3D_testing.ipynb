{
  "nbformat": 4,
  "nbformat_minor": 0,
  "metadata": {
    "colab": {
      "provenance": [],
      "gpuType": "T4"
    },
    "kernelspec": {
      "name": "python3",
      "display_name": "Python 3"
    },
    "language_info": {
      "name": "python"
    },
    "accelerator": "GPU"
  },
  "cells": [
    {
      "cell_type": "markdown",
      "source": [
        "# 3d UNet first experiments"
      ],
      "metadata": {
        "id": "hS2jgZqg5Y8v"
      }
    },
    {
      "cell_type": "code",
      "source": [
        "from tensorflow.keras.layers import Input, Conv3D, Conv3DTranspose, MaxPool3D, UpSampling3D, Dense\n",
        "from tensorflow.keras import Model\n",
        "from tensorflow.keras.optimizers import Adam\n",
        "import tensorflow as tf\n",
        "\n",
        "import h5py\n",
        "import numpy as np"
      ],
      "metadata": {
        "id": "6lLcvgk65YIY"
      },
      "execution_count": null,
      "outputs": []
    },
    {
      "cell_type": "code",
      "source": [
        "# download data\n",
        "!wget -O sim_data.h5 'https://data.4tu.nl/file/9f2f96b0-99a6-439b-848e-e914f51d7d85/83b4abe7-54f1-4f36-8e2b-6e2e604adca0'"
      ],
      "metadata": {
        "colab": {
          "base_uri": "https://localhost:8080/"
        },
        "id": "3f0CjRtMtYVT",
        "outputId": "85db82ad-2390-47cc-c893-5a7e18dfd5d8"
      },
      "execution_count": null,
      "outputs": [
        {
          "output_type": "stream",
          "name": "stdout",
          "text": [
            "--2023-06-21 12:35:36--  https://data.4tu.nl/file/9f2f96b0-99a6-439b-848e-e914f51d7d85/83b4abe7-54f1-4f36-8e2b-6e2e604adca0\n",
            "Resolving data.4tu.nl (data.4tu.nl)... 131.180.169.22\n",
            "Connecting to data.4tu.nl (data.4tu.nl)|131.180.169.22|:443... connected.\n",
            "HTTP request sent, awaiting response... 200 OK\n",
            "Length: 38240648 (36M) [application/octet-stream]\n",
            "Saving to: ‘sim_data.h5’\n",
            "\n",
            "sim_data.h5         100%[===================>]  36.47M  8.54MB/s    in 5.1s    \n",
            "\n",
            "2023-06-21 12:35:42 (7.21 MB/s) - ‘sim_data.h5’ saved [38240648/38240648]\n",
            "\n"
          ]
        }
      ]
    },
    {
      "cell_type": "markdown",
      "source": [
        "## Preprocess data"
      ],
      "metadata": {
        "id": "3fc7v4fC6smS"
      }
    },
    {
      "cell_type": "code",
      "source": [
        "with h5py.File('sim_data.h5') as f:\n",
        "  data = np.array(f['OutArray'])\n",
        "data.shape"
      ],
      "metadata": {
        "colab": {
          "base_uri": "https://localhost:8080/"
        },
        "id": "voW30bGMunlu",
        "outputId": "57a73560-335e-4f87-e137-1d3476f78e73"
      },
      "execution_count": null,
      "outputs": [
        {
          "output_type": "execute_result",
          "data": {
            "text/plain": [
              "(182, 160, 164)"
            ]
          },
          "metadata": {},
          "execution_count": 3
        }
      ]
    },
    {
      "cell_type": "code",
      "source": [
        "# keras expects a feature dimension as the last axis\n",
        "# here there is only one feature and it doesn't have its own axis, so add it\n",
        "train_data = tf.expand_dims(data, 3)\n",
        "print(train_data.shape)\n",
        "# add a batch dimension\n",
        "train_data = tf.expand_dims(train_data, 0)\n",
        "print(train_data.shape)\n",
        "# not sure if it matters but i always think of the dimensions as being in the order\n",
        "# width, height, depth, so transpose\n",
        "train_data = tf.transpose(train_data, (0, 2, 3, 1, 4))\n",
        "print(train_data.shape)\n",
        "\n",
        "# just for convenience, trim data\n",
        "spatial_dim = 128\n",
        "train_data = train_data[:, :spatial_dim, :spatial_dim, :spatial_dim, :]\n",
        "print(train_data.shape)"
      ],
      "metadata": {
        "colab": {
          "base_uri": "https://localhost:8080/"
        },
        "id": "WmvTN-Q4vBBd",
        "outputId": "4393540a-3c30-43b0-a39f-d313d36a34e0"
      },
      "execution_count": null,
      "outputs": [
        {
          "output_type": "stream",
          "name": "stdout",
          "text": [
            "(182, 160, 164, 1)\n",
            "(1, 182, 160, 164, 1)\n",
            "(1, 160, 164, 182, 1)\n",
            "(1, 128, 128, 128, 1)\n"
          ]
        }
      ]
    },
    {
      "cell_type": "markdown",
      "source": [
        "## Create very simple 3D Unet segmentation model"
      ],
      "metadata": {
        "id": "nyBGcryU7E30"
      }
    },
    {
      "cell_type": "code",
      "source": [
        "num_classes = 3\n",
        "\n",
        "input = Input(shape=train_data.shape[1:])\n",
        "x = input\n",
        "\n",
        "for filters in [2, 4, 8, 16, 32, 64]:\n",
        "  x = Conv3D(filters=filters, kernel_size=3, padding='same')(x)\n",
        "  x = MaxPool3D(pool_size=2)(x)\n",
        "\n",
        "for filters in [64, 32, 16, 8, 4, 2]:\n",
        "  x = Conv3DTranspose(filters=filters, kernel_size=3, padding='same')(x)\n",
        "  x = UpSampling3D(2)(x)\n",
        "\n",
        "\n",
        "output = Dense(units=num_classes, activation='softmax')(x)\n",
        "\n",
        "model = Model(input, output)\n",
        "model.summary()"
      ],
      "metadata": {
        "colab": {
          "base_uri": "https://localhost:8080/"
        },
        "id": "7ZVarEgjtkMA",
        "outputId": "558e461c-cee5-476d-c988-e74872d6e5f3"
      },
      "execution_count": null,
      "outputs": [
        {
          "output_type": "stream",
          "name": "stdout",
          "text": [
            "Model: \"model\"\n",
            "_________________________________________________________________\n",
            " Layer (type)                Output Shape              Param #   \n",
            "=================================================================\n",
            " input_1 (InputLayer)        [(None, 128, 128, 128, 1  0         \n",
            "                             )]                                  \n",
            "                                                                 \n",
            " conv3d (Conv3D)             (None, 128, 128, 128, 2)  56        \n",
            "                                                                 \n",
            " max_pooling3d (MaxPooling3D  (None, 64, 64, 64, 2)    0         \n",
            " )                                                               \n",
            "                                                                 \n",
            " conv3d_1 (Conv3D)           (None, 64, 64, 64, 4)     220       \n",
            "                                                                 \n",
            " max_pooling3d_1 (MaxPooling  (None, 32, 32, 32, 4)    0         \n",
            " 3D)                                                             \n",
            "                                                                 \n",
            " conv3d_2 (Conv3D)           (None, 32, 32, 32, 8)     872       \n",
            "                                                                 \n",
            " max_pooling3d_2 (MaxPooling  (None, 16, 16, 16, 8)    0         \n",
            " 3D)                                                             \n",
            "                                                                 \n",
            " conv3d_3 (Conv3D)           (None, 16, 16, 16, 16)    3472      \n",
            "                                                                 \n",
            " max_pooling3d_3 (MaxPooling  (None, 8, 8, 8, 16)      0         \n",
            " 3D)                                                             \n",
            "                                                                 \n",
            " conv3d_4 (Conv3D)           (None, 8, 8, 8, 32)       13856     \n",
            "                                                                 \n",
            " max_pooling3d_4 (MaxPooling  (None, 4, 4, 4, 32)      0         \n",
            " 3D)                                                             \n",
            "                                                                 \n",
            " conv3d_5 (Conv3D)           (None, 4, 4, 4, 64)       55360     \n",
            "                                                                 \n",
            " max_pooling3d_5 (MaxPooling  (None, 2, 2, 2, 64)      0         \n",
            " 3D)                                                             \n",
            "                                                                 \n",
            " conv3d_transpose (Conv3DTra  (None, 2, 2, 2, 64)      110656    \n",
            " nspose)                                                         \n",
            "                                                                 \n",
            " up_sampling3d (UpSampling3D  (None, 4, 4, 4, 64)      0         \n",
            " )                                                               \n",
            "                                                                 \n",
            " conv3d_transpose_1 (Conv3DT  (None, 4, 4, 4, 32)      55328     \n",
            " ranspose)                                                       \n",
            "                                                                 \n",
            " up_sampling3d_1 (UpSampling  (None, 8, 8, 8, 32)      0         \n",
            " 3D)                                                             \n",
            "                                                                 \n",
            " conv3d_transpose_2 (Conv3DT  (None, 8, 8, 8, 16)      13840     \n",
            " ranspose)                                                       \n",
            "                                                                 \n",
            " up_sampling3d_2 (UpSampling  (None, 16, 16, 16, 16)   0         \n",
            " 3D)                                                             \n",
            "                                                                 \n",
            " conv3d_transpose_3 (Conv3DT  (None, 16, 16, 16, 8)    3464      \n",
            " ranspose)                                                       \n",
            "                                                                 \n",
            " up_sampling3d_3 (UpSampling  (None, 32, 32, 32, 8)    0         \n",
            " 3D)                                                             \n",
            "                                                                 \n",
            " conv3d_transpose_4 (Conv3DT  (None, 32, 32, 32, 4)    868       \n",
            " ranspose)                                                       \n",
            "                                                                 \n",
            " up_sampling3d_4 (UpSampling  (None, 64, 64, 64, 4)    0         \n",
            " 3D)                                                             \n",
            "                                                                 \n",
            " conv3d_transpose_5 (Conv3DT  (None, 64, 64, 64, 2)    218       \n",
            " ranspose)                                                       \n",
            "                                                                 \n",
            " up_sampling3d_5 (UpSampling  (None, 128, 128, 128, 2)  0        \n",
            " 3D)                                                             \n",
            "                                                                 \n",
            " dense (Dense)               (None, 128, 128, 128, 3)  9         \n",
            "                                                                 \n",
            "=================================================================\n",
            "Total params: 258,219\n",
            "Trainable params: 258,219\n",
            "Non-trainable params: 0\n",
            "_________________________________________________________________\n"
          ]
        }
      ]
    },
    {
      "cell_type": "markdown",
      "source": [
        "## Apply it to data"
      ],
      "metadata": {
        "id": "48qFiCEw7Ybu"
      }
    },
    {
      "cell_type": "code",
      "source": [
        "model_output = model(train_data)\n",
        "model_output.shape"
      ],
      "metadata": {
        "colab": {
          "base_uri": "https://localhost:8080/"
        },
        "id": "XjvcUxHWuiaR",
        "outputId": "9b35e69d-5739-4615-cf8f-24986d08075f"
      },
      "execution_count": null,
      "outputs": [
        {
          "output_type": "execute_result",
          "data": {
            "text/plain": [
              "TensorShape([1, 128, 128, 128, 3])"
            ]
          },
          "metadata": {},
          "execution_count": 6
        }
      ]
    },
    {
      "cell_type": "markdown",
      "source": [
        "## Create fake labels"
      ],
      "metadata": {
        "id": "Z7wSmnG67f9A"
      }
    },
    {
      "cell_type": "code",
      "source": [
        "# set label to 0 if negative, 1 is positive, or 2 if > 0.1\n",
        "train_x = train_data\n",
        "zeros = tf.zeros_like(train_data)\n",
        "ones = tf.ones_like(train_data)\n",
        "twos = 2 * ones\n",
        "train_y = tf.where(train_data > 0, ones, zeros)\n",
        "train_y = tf.where(train_data > 0.1, twos, train_y)\n",
        "train_y.shape"
      ],
      "metadata": {
        "colab": {
          "base_uri": "https://localhost:8080/"
        },
        "id": "TNpSqiUXyNth",
        "outputId": "4b94c636-ce00-4886-c3a2-f9e43ff21c6a"
      },
      "execution_count": null,
      "outputs": [
        {
          "output_type": "execute_result",
          "data": {
            "text/plain": [
              "TensorShape([1, 128, 128, 128, 1])"
            ]
          },
          "metadata": {},
          "execution_count": 7
        }
      ]
    },
    {
      "cell_type": "markdown",
      "source": [
        "## Compile model"
      ],
      "metadata": {
        "id": "x07k3e8Z8aDB"
      }
    },
    {
      "cell_type": "code",
      "source": [
        "optimizer = Adam()\n",
        "\n",
        "model.compile(optimizer=optimizer, loss='sparse_categorical_crossentropy')"
      ],
      "metadata": {
        "id": "hPQ9-H4o8MnK"
      },
      "execution_count": null,
      "outputs": []
    },
    {
      "cell_type": "markdown",
      "source": [
        "## Train the model"
      ],
      "metadata": {
        "id": "7eGdKId583B3"
      }
    },
    {
      "cell_type": "code",
      "source": [
        "model.fit(train_x, train_y, epochs=100)"
      ],
      "metadata": {
        "colab": {
          "base_uri": "https://localhost:8080/"
        },
        "id": "5qhDtBQt8IVf",
        "outputId": "119fe921-1a90-48cc-ad56-b0acb2ab2d39"
      },
      "execution_count": null,
      "outputs": [
        {
          "output_type": "stream",
          "name": "stdout",
          "text": [
            "Epoch 1/100\n",
            "1/1 [==============================] - 10s 10s/step - loss: 1.1021\n",
            "Epoch 2/100\n",
            "1/1 [==============================] - 0s 58ms/step - loss: 1.0628\n",
            "Epoch 3/100\n",
            "1/1 [==============================] - 0s 57ms/step - loss: 0.9197\n",
            "Epoch 4/100\n",
            "1/1 [==============================] - 0s 57ms/step - loss: 1.0365\n",
            "Epoch 5/100\n",
            "1/1 [==============================] - 0s 57ms/step - loss: 0.8343\n",
            "Epoch 6/100\n",
            "1/1 [==============================] - 0s 55ms/step - loss: 0.8725\n",
            "Epoch 7/100\n",
            "1/1 [==============================] - 0s 56ms/step - loss: 0.8952\n",
            "Epoch 8/100\n",
            "1/1 [==============================] - 0s 57ms/step - loss: 0.8740\n",
            "Epoch 9/100\n",
            "1/1 [==============================] - 0s 56ms/step - loss: 0.8236\n",
            "Epoch 10/100\n",
            "1/1 [==============================] - 0s 58ms/step - loss: 0.7846\n",
            "Epoch 11/100\n",
            "1/1 [==============================] - 0s 65ms/step - loss: 0.8189\n",
            "Epoch 12/100\n",
            "1/1 [==============================] - 0s 55ms/step - loss: 0.8202\n",
            "Epoch 13/100\n",
            "1/1 [==============================] - 0s 54ms/step - loss: 0.7794\n",
            "Epoch 14/100\n",
            "1/1 [==============================] - 0s 61ms/step - loss: 0.7736\n",
            "Epoch 15/100\n",
            "1/1 [==============================] - 0s 74ms/step - loss: 0.7866\n",
            "Epoch 16/100\n",
            "1/1 [==============================] - 0s 70ms/step - loss: 0.7907\n",
            "Epoch 17/100\n",
            "1/1 [==============================] - 0s 73ms/step - loss: 0.7799\n",
            "Epoch 18/100\n",
            "1/1 [==============================] - 0s 72ms/step - loss: 0.7617\n",
            "Epoch 19/100\n",
            "1/1 [==============================] - 0s 70ms/step - loss: 0.7501\n",
            "Epoch 20/100\n",
            "1/1 [==============================] - 0s 67ms/step - loss: 0.7530\n",
            "Epoch 21/100\n",
            "1/1 [==============================] - 0s 79ms/step - loss: 0.7558\n",
            "Epoch 22/100\n",
            "1/1 [==============================] - 0s 73ms/step - loss: 0.7433\n",
            "Epoch 23/100\n",
            "1/1 [==============================] - 0s 84ms/step - loss: 0.7301\n",
            "Epoch 24/100\n",
            "1/1 [==============================] - 0s 68ms/step - loss: 0.7290\n",
            "Epoch 25/100\n",
            "1/1 [==============================] - 0s 69ms/step - loss: 0.7320\n",
            "Epoch 26/100\n",
            "1/1 [==============================] - 0s 70ms/step - loss: 0.7283\n",
            "Epoch 27/100\n",
            "1/1 [==============================] - 0s 72ms/step - loss: 0.7199\n",
            "Epoch 28/100\n",
            "1/1 [==============================] - 0s 67ms/step - loss: 0.7160\n",
            "Epoch 29/100\n",
            "1/1 [==============================] - 0s 84ms/step - loss: 0.7182\n",
            "Epoch 30/100\n",
            "1/1 [==============================] - 0s 72ms/step - loss: 0.7178\n",
            "Epoch 31/100\n",
            "1/1 [==============================] - 0s 75ms/step - loss: 0.7112\n",
            "Epoch 32/100\n",
            "1/1 [==============================] - 0s 82ms/step - loss: 0.7059\n",
            "Epoch 33/100\n",
            "1/1 [==============================] - 0s 77ms/step - loss: 0.7057\n",
            "Epoch 34/100\n",
            "1/1 [==============================] - 0s 77ms/step - loss: 0.7054\n",
            "Epoch 35/100\n",
            "1/1 [==============================] - 0s 76ms/step - loss: 0.7015\n",
            "Epoch 36/100\n",
            "1/1 [==============================] - 0s 68ms/step - loss: 0.6980\n",
            "Epoch 37/100\n",
            "1/1 [==============================] - 0s 70ms/step - loss: 0.6978\n",
            "Epoch 38/100\n",
            "1/1 [==============================] - 0s 75ms/step - loss: 0.6973\n",
            "Epoch 39/100\n",
            "1/1 [==============================] - 0s 70ms/step - loss: 0.6940\n",
            "Epoch 40/100\n",
            "1/1 [==============================] - 0s 73ms/step - loss: 0.6912\n",
            "Epoch 41/100\n",
            "1/1 [==============================] - 0s 72ms/step - loss: 0.6902\n",
            "Epoch 42/100\n",
            "1/1 [==============================] - 0s 67ms/step - loss: 0.6887\n",
            "Epoch 43/100\n",
            "1/1 [==============================] - 0s 62ms/step - loss: 0.6866\n",
            "Epoch 44/100\n",
            "1/1 [==============================] - 0s 70ms/step - loss: 0.6855\n",
            "Epoch 45/100\n",
            "1/1 [==============================] - 0s 67ms/step - loss: 0.6852\n",
            "Epoch 46/100\n",
            "1/1 [==============================] - 0s 72ms/step - loss: 0.6841\n",
            "Epoch 47/100\n",
            "1/1 [==============================] - 0s 62ms/step - loss: 0.6821\n",
            "Epoch 48/100\n",
            "1/1 [==============================] - 0s 55ms/step - loss: 0.6811\n",
            "Epoch 49/100\n",
            "1/1 [==============================] - 0s 57ms/step - loss: 0.6807\n",
            "Epoch 50/100\n",
            "1/1 [==============================] - 0s 55ms/step - loss: 0.6791\n",
            "Epoch 51/100\n",
            "1/1 [==============================] - 0s 60ms/step - loss: 0.6778\n",
            "Epoch 52/100\n",
            "1/1 [==============================] - 0s 54ms/step - loss: 0.6777\n",
            "Epoch 53/100\n",
            "1/1 [==============================] - 0s 54ms/step - loss: 0.6768\n",
            "Epoch 54/100\n",
            "1/1 [==============================] - 0s 60ms/step - loss: 0.6760\n",
            "Epoch 55/100\n",
            "1/1 [==============================] - 0s 57ms/step - loss: 0.6761\n",
            "Epoch 56/100\n",
            "1/1 [==============================] - 0s 57ms/step - loss: 0.6752\n",
            "Epoch 57/100\n",
            "1/1 [==============================] - 0s 54ms/step - loss: 0.6745\n",
            "Epoch 58/100\n",
            "1/1 [==============================] - 0s 55ms/step - loss: 0.6742\n",
            "Epoch 59/100\n",
            "1/1 [==============================] - 0s 55ms/step - loss: 0.6733\n",
            "Epoch 60/100\n",
            "1/1 [==============================] - 0s 57ms/step - loss: 0.6730\n",
            "Epoch 61/100\n",
            "1/1 [==============================] - 0s 54ms/step - loss: 0.6725\n",
            "Epoch 62/100\n",
            "1/1 [==============================] - 0s 56ms/step - loss: 0.6718\n",
            "Epoch 63/100\n",
            "1/1 [==============================] - 0s 58ms/step - loss: 0.6716\n",
            "Epoch 64/100\n",
            "1/1 [==============================] - 0s 57ms/step - loss: 0.6709\n",
            "Epoch 65/100\n",
            "1/1 [==============================] - 0s 55ms/step - loss: 0.6706\n",
            "Epoch 66/100\n",
            "1/1 [==============================] - 0s 58ms/step - loss: 0.6702\n",
            "Epoch 67/100\n",
            "1/1 [==============================] - 0s 58ms/step - loss: 0.6697\n",
            "Epoch 68/100\n",
            "1/1 [==============================] - 0s 58ms/step - loss: 0.6695\n",
            "Epoch 69/100\n",
            "1/1 [==============================] - 0s 58ms/step - loss: 0.6690\n",
            "Epoch 70/100\n",
            "1/1 [==============================] - 0s 55ms/step - loss: 0.6687\n",
            "Epoch 71/100\n",
            "1/1 [==============================] - 0s 60ms/step - loss: 0.6682\n",
            "Epoch 72/100\n",
            "1/1 [==============================] - 0s 55ms/step - loss: 0.6679\n",
            "Epoch 73/100\n",
            "1/1 [==============================] - 0s 54ms/step - loss: 0.6676\n",
            "Epoch 74/100\n",
            "1/1 [==============================] - 0s 58ms/step - loss: 0.6672\n",
            "Epoch 75/100\n",
            "1/1 [==============================] - 0s 56ms/step - loss: 0.6670\n",
            "Epoch 76/100\n",
            "1/1 [==============================] - 0s 60ms/step - loss: 0.6666\n",
            "Epoch 77/100\n",
            "1/1 [==============================] - 0s 64ms/step - loss: 0.6664\n",
            "Epoch 78/100\n",
            "1/1 [==============================] - 0s 58ms/step - loss: 0.6660\n",
            "Epoch 79/100\n",
            "1/1 [==============================] - 0s 56ms/step - loss: 0.6658\n",
            "Epoch 80/100\n",
            "1/1 [==============================] - 0s 57ms/step - loss: 0.6655\n",
            "Epoch 81/100\n",
            "1/1 [==============================] - 0s 56ms/step - loss: 0.6653\n",
            "Epoch 82/100\n",
            "1/1 [==============================] - 0s 57ms/step - loss: 0.6650\n",
            "Epoch 83/100\n",
            "1/1 [==============================] - 0s 56ms/step - loss: 0.6649\n",
            "Epoch 84/100\n",
            "1/1 [==============================] - 0s 55ms/step - loss: 0.6646\n",
            "Epoch 85/100\n",
            "1/1 [==============================] - 0s 58ms/step - loss: 0.6645\n",
            "Epoch 86/100\n",
            "1/1 [==============================] - 0s 56ms/step - loss: 0.6642\n",
            "Epoch 87/100\n",
            "1/1 [==============================] - 0s 56ms/step - loss: 0.6640\n",
            "Epoch 88/100\n",
            "1/1 [==============================] - 0s 54ms/step - loss: 0.6638\n",
            "Epoch 89/100\n",
            "1/1 [==============================] - 0s 59ms/step - loss: 0.6636\n",
            "Epoch 90/100\n",
            "1/1 [==============================] - 0s 58ms/step - loss: 0.6634\n",
            "Epoch 91/100\n",
            "1/1 [==============================] - 0s 58ms/step - loss: 0.6632\n",
            "Epoch 92/100\n",
            "1/1 [==============================] - 0s 57ms/step - loss: 0.6630\n",
            "Epoch 93/100\n",
            "1/1 [==============================] - 0s 54ms/step - loss: 0.6628\n",
            "Epoch 94/100\n",
            "1/1 [==============================] - 0s 60ms/step - loss: 0.6626\n",
            "Epoch 95/100\n",
            "1/1 [==============================] - 0s 67ms/step - loss: 0.6624\n",
            "Epoch 96/100\n",
            "1/1 [==============================] - 0s 56ms/step - loss: 0.6623\n",
            "Epoch 97/100\n",
            "1/1 [==============================] - 0s 58ms/step - loss: 0.6621\n",
            "Epoch 98/100\n",
            "1/1 [==============================] - 0s 55ms/step - loss: 0.6619\n",
            "Epoch 99/100\n",
            "1/1 [==============================] - 0s 52ms/step - loss: 0.6617\n",
            "Epoch 100/100\n",
            "1/1 [==============================] - 0s 49ms/step - loss: 0.6615\n"
          ]
        },
        {
          "output_type": "execute_result",
          "data": {
            "text/plain": [
              "<keras.callbacks.History at 0x7faa201e4dc0>"
            ]
          },
          "metadata": {},
          "execution_count": 9
        }
      ]
    },
    {
      "cell_type": "code",
      "source": [],
      "metadata": {
        "id": "f3i8zoar80ZH"
      },
      "execution_count": null,
      "outputs": []
    }
  ]
}